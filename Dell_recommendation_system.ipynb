{
 "cells": [
  {
   "cell_type": "markdown",
   "metadata": {},
   "source": [
    "# Dell.com Customer Recommendation System\n",
    "### By Rich Caputo\n",
    "\n",
    "#### Problem Statement: When a customer logs into Dell.com, the front page remains the same as if they had not logged in, essentially treating an account holding customer the same as if they were new to the website, without any personalization. According to McKinsey, \"Already, 35 percent of what consumers purchase on Amazon and 75 percent of what they watch on Netflix come from product recommendations based on such [recommendation] algorithms.\" https://www.mckinsey.com/industries/retail/our-insights/how-retailers-can-keep-up-with-consumers.\n",
    "\n",
    "My goal is to create a recommendation system on Dell.com using Python that understands and tailors specifically to the individuality of each of our account holding customers. If we were to have recommendations for an account holding customer based on machine learning methods, we would not only potentially increase sales, but also increase our brand reputation as one that is integrated firmly in the AI/ML world. Using data on how much of any given item every customer has purchased on our website, we can predict what it will be that a customer most likely will buy next.\n",
    "\n",
    "The following Jupyter notebook is a simulation as to how a Dell.com recommendation system might work. We use simulated data that is segmented into four possible customer categories that may well be similar to our actual customer base: enthusiast, business, home office, and gaming. Although the data we create cannot fully accurately represent the Dell customer base, this will help us understand how useful a recommendation system can be. If we were to implement this model, the data would speak for itself, i.e. we would be able to find segments rather than create them ourselves."
   ]
  },
  {
   "cell_type": "code",
   "execution_count": 1,
   "metadata": {},
   "outputs": [],
   "source": [
    "# Implement Relevant Packages\n",
    "import random\n",
    "import sys\n",
    "\n",
    "# Store data as dataframes and perform operations\n",
    "import pandas as pd\n",
    "import numpy as np\n",
    "\n",
    "# Machine learning repository\n",
    "from sklearn.decomposition import PCA\n",
    "from sklearn.mixture import GaussianMixture\n",
    "from sklearn.metrics import silhouette_score\n",
    "from sklearn.preprocessing import MinMaxScaler\n",
    "from sklearn.utils import shuffle\n",
    "\n",
    "# Scipy\n",
    "import scipy.sparse as sparse\n",
    "from scipy.sparse.linalg import spsolve\n",
    "\n",
    "# Allows the use of display() for DataFrames\n",
    "from IPython.display import display \n",
    "\n",
    "# Import supplementary visualizations code visuals.py\n",
    "import visuals as vs\n"
   ]
  },
  {
   "cell_type": "markdown",
   "metadata": {},
   "source": [
    "Let's now import a list of almost every item offered on Dell.com. We will deliberately leave out some items for convenience sake, but this list will contain nearly the top 80% of what we offer. "
   ]
  },
  {
   "cell_type": "code",
   "execution_count": 2,
   "metadata": {},
   "outputs": [],
   "source": [
    "\n",
    "# Input all possible products on Dell.com\n",
    "products = ['Latitude 3000', 'Latitude 5000', 'Latitude 7000', 'Latitude Education Series', 'Latitude Rugged Series', 'Vostro 3000', 'Vostro 5000',\\\n",
    "            'Inspiron 3000', 'Inspriron 5000', 'Inspriron 7000', 'Inspiron Chromebook 11', 'Precision Mobile Workstation 3000',\\\n",
    "            'Precision Mobile Workstation 5000', 'Precision Mobile Workstation 7000', 'XPS 13', 'XPS 13 2-in-1', 'XPS 15', 'XPS 15 2-in-1',\\\n",
    "            'Education Chromebook 11', 'Education Chromebook 13', 'G3', 'G5', 'G7', 'OptiPlex 3000', 'OptiPlex 5000', 'OptiPlex 7000',\\\n",
    "            'OptiPlex 3000 All-in-one', 'OptiPlex 5000 All-in-one', 'OptiPlex 7000 All-in-one', 'OptiPlex XE', 'Vostro Desktop',\\\n",
    "            'Inspiron Desktop', 'Inspirion 3000 All-in-one', 'Inspirion 5000 All-in-one', 'Inspirion 7000 All-in-one', 'Precision Fixed 3000',\\\n",
    "            'Precision Fixed 5000', 'Precision Fixed 5000 All-in-one', 'Precision Fixed 7000', 'XPS Tower', 'XPS 27 All-in-one', 'Wyse 3030 Thin Client',\\\n",
    "            'Wyse 3040 Thin Client', 'Wyse 5000 Thin Client', 'Wyse 5070 Thin Client', 'Wyse 7000 Thin Client', 'Wyse 7040 Thin Client', 'Wyse 5030 Zero Client',\\\n",
    "            'Wyse 7030 Zero Client', 'PowerEdge T', 'PowerEdge R', 'PowerEdge C', 'PowerEdge M', 'PowerEdge FX', 'PowerEdge MX', 'PowerEdge VRTX', 'KVM', 'KMM', 'UPS',\\\n",
    "            'Networking X', 'Networking N', 'Networking C', 'Networking S', 'Networking Z', 'Networking M Blade', 'Brocade', 'SonicWall', 'SonicPoint',\\\n",
    "            'UltraSharp 24', 'UltraSharp 27', 'UltraSharp 38 Curved', 'UltraSharp 34 Curved', 'UltraSharp 32 8K', 'UltraSharp 27 4K',\\\n",
    "            '27 P', '22 P', '24 P', '23 P', '24 4K P', '24 Touch P', '24 Video-Conferencing P', '24 E', '17 E', '22 E', '23 E', '70 C', '55 C', '55 C Interactive',\\\n",
    "            '86 Interactive Touch', 'Inkjet Printer', 'Color Laser Printer', 'Black/White Laser Printer', 'Scanner', 'Keys-To-Go', 'Dell Wireless Keyboard & Mouse',\\\n",
    "            'Visiontek Universal Dock', 'Dell Docking Station', 'Dell Business Dock', 'Dell Mobile USB-C Adapter', 'Briefcase', 'Backpack', 'Notebook Sleeve',\\\n",
    "            'Alienware 13', 'Alienware 15', 'Alienware 17', 'Inspiron Gaming Desktop', 'Alienware Aurora', 'Alienware Area-51', 'Alienware 34 Curved Gaming Monitor', 'Dell 27 Gaming Monitor',\\\n",
    "            'Alienware 25 Gaming Monitor', 'HTC Hive', 'Alienware headset', 'Gaming Keyboard', 'Alienware Mouse']"
   ]
  },
  {
   "cell_type": "markdown",
   "metadata": {},
   "source": [
    "That's a lot of products (115 to be exact)! Now, it's safe for us to assume that not every customer is going to be interested in every item on that list. However, certain customers are definitely going to be interested in certain subsets of this list. For this reason, we will manually create the previously mentioned customer segments, such that each customer will only be interested in a subset of products. "
   ]
  },
  {
   "cell_type": "code",
   "execution_count": 3,
   "metadata": {},
   "outputs": [],
   "source": [
    "# Segment into hypothesized customer types\n",
    "segments = {'Enthusiast': ['Latitude 3000', 'Latitude 5000', 'Latitude 7000', 'Latitude Education Series', 'Latitude Rugged Series', 'Vostro 3000', 'Vostro 5000',\\\n",
    "            'Inspiron 3000', 'Inspriron 5000', 'Inspriron 7000', 'Inspiron Chromebook 11', 'Precision Mobile Workstation 3000', \\\n",
    "            'Precision Mobile Workstation 5000', 'Precision Mobile Workstation 7000', 'XPS 13', 'XPS 13 2-in-1', 'XPS 15', 'XPS 15 2-in-1',\\\n",
    "            'Education Chromebook 11', 'Education Chromebook 13', '27 P', '22 P', '24 P', '23 P', '24 4K P', '24 Touch P', 'Dell Mobile USB-C Adapter', 'Briefcase', 'Backpack', 'Notebook Sleeve', 'Keys-To-Go'],\\\n",
    "\n",
    "            'Business': ['OptiPlex 3000', 'OptiPlex 5000', 'OptiPlex 7000',\\\n",
    "            'OptiPlex 3000 All-in-one', 'OptiPlex 5000 All-in-one', 'OptiPlex 7000 All-in-one', 'OptiPlex XE', 'Vostro Desktop',\\\n",
    "            'Inspiron Desktop', 'Inspirion 3000 All-in-one', 'Inspirion 5000 All-in-one', 'Inspirion 7000 All-in-one', 'Precision Fixed 3000',\\\n",
    "            'Precision Fixed 5000', 'Precision Fixed 5000 All-in-one', 'Precision Fixed 7000', 'XPS Tower', 'XPS 27 All-in-one', 'Wyse 3030 Thin Client',\\\n",
    "            'Wyse 3040 Thin Client', 'Wyse 5000 Thin Client', 'Wyse 5070 Thin Client', 'Wyse 7000 Thin Client', 'Wyse 7040 Thin Client', 'Wyse 5030 Zero Client',\\\n",
    "            'Wyse 7030 Zero Client', 'PowerEdge T', 'PowerEdge R', 'PowerEdge C', 'PowerEdge M', 'PowerEdge FX', 'PowerEdge MX', 'PowerEdge VRTX', 'KVM', 'KMM', 'UPS',\\\n",
    "            'Networking X', 'Networking N', 'Networking C', 'Networking S', 'Networking Z', 'Networking M Blade', 'Brocade', 'SonicWall', 'SonicPoint', 'Dell Business Dock', 'Dell Wireless Keyboard & Mouse'],\\\n",
    "            \n",
    "            'Home_Office': ['UltraSharp 24', 'UltraSharp 27', 'UltraSharp 38 Curved', 'UltraSharp 34 Curved', 'UltraSharp 32 8K', 'UltraSharp 27 4K',\\\n",
    "            '27 P', '22 P', '24 P', '23 P', '24 4K P', '24 Touch P', '24 Video-Conferencing P', '24 E', '17 E', '22 E', '23 E', '70 C', '55 C', '55 C Interactive',\\\n",
    "            '86 Interactive Touch', 'Inkjet Printer', 'Dell Wireless Keyboard & Mouse', 'Vostro Desktop',\\\n",
    "            'Inspiron Desktop', 'Inspirion 3000 All-in-one', 'Inspirion 5000 All-in-one', 'Inspirion 7000 All-in-one', 'Precision Fixed 3000',\\\n",
    "            'Precision Fixed 5000', 'Precision Fixed 5000 All-in-one', 'Precision Fixed 7000', 'XPS Tower', 'XPS 27 All-in-one', 'Dell Docking Station', 'Dell Business Dock'],\\\n",
    "                            \n",
    "            'Gaming': ['G3', 'G5', 'G7','Visiontek Universal Dock', 'Dell Docking Station', 'Dell Business Dock', 'Dell Mobile USB-C Adapter', 'Briefcase', 'Backpack', 'Notebook Sleeve',\\\n",
    "            'Alienware 13', 'Alienware 15', 'Alienware 17', 'Inspiron Gaming Desktop', 'Alienware Aurora', 'Alienware Area-51', 'Alienware 34 Curved Gaming Monitor', 'Dell 27 Gaming Monitor',\\\n",
    "            'Alienware 25 Gaming Monitor', 'HTC Hive', 'Alienware headset', 'Gaming Keyboard', 'Alienware Mouse','UltraSharp 24', 'UltraSharp 27', 'UltraSharp 38 Curved', 'UltraSharp 34 Curved', 'UltraSharp 32 8K', 'UltraSharp 27 4K']}\n"
   ]
  },
  {
   "cell_type": "markdown",
   "metadata": {},
   "source": [
    "Let's now simulate some data using these segments. We are going to make some hypothetic assumptions: enthusiast and gaming segments are only interested in buying one of any item, business segment will be interested in purchasing up to four of any given item, and home office will sometimes purchase 2 of a given item. These aren't necessarily accurate assumptions, but will help in creating a simple random dataset. Futhermore, we will assume that the number of each segment is ordered from most to least as follows: enthusiast, home_office, gaming, businesss. This is completely speculative and just meant to give some discrepancy in the data."
   ]
  },
  {
   "cell_type": "code",
   "execution_count": 4,
   "metadata": {},
   "outputs": [],
   "source": [
    "# Get the number of items in each segment\n",
    "lengths = []        \n",
    "for key,value in segments.items():\n",
    "    lengths.append(len(value))\n",
    "\n",
    "# Build random dataframes based on each customer type\n",
    "def build_df():\n",
    "    # Enthusiast Given 15% chance of buying one of random item and 5% chance of buying 2 of random item\n",
    "    enthusiast = np.random.choice([0, 1, 2], size=(5000,lengths[0]), p=[8./10, 1.5/10, 0.5/10])\n",
    "    enthusiast_df = pd.DataFrame(enthusiast, columns=segments['Enthusiast'])\n",
    "    for item in list(set(products)-set(segments['Enthusiast'])):\n",
    "        enthusiast_df[item]=0\n",
    "    \n",
    "    # Business given pseudo-normal distribution over range of 0 to 4 of any given random item\n",
    "    business = np.random.choice([0, 1, 2, 3, 4], size=(1000,lengths[1]), p=[1./10, 2./10, 4./10, 2./10, 1./10])\n",
    "    business_df = pd.DataFrame(business, columns=segments['Business'])\n",
    "    for item in list(set(products)-set(segments['Business'])):\n",
    "        business_df[item]=0\n",
    "    \n",
    "    # Home Office given 15% chance of buying one of random item and 5% chance of buying 2 of random item\n",
    "    home_office = np.random.choice([0, 1, 2], size=(3000,lengths[2]), p=[8./10, 1.5/10, 0.5/10])\n",
    "    home_office_df = pd.DataFrame(home_office, columns=segments['Home_Office'])\n",
    "    for item in list(set(products)-set(segments['Home_Office'])):\n",
    "        home_office_df[item]=0\n",
    "    \n",
    "    # Gaming given 10% chance of buying any random item in segment (gaming items are more expensive than hobbyist items)\n",
    "    gaming = np.random.choice([0, 1], size=(1500,lengths[3]), p=[9./10, 1./10])\n",
    "    gaming_df = pd.DataFrame(gaming, columns=segments['Gaming'])\n",
    "    for item in list(set(products)-set(segments['Gaming'])):\n",
    "        gaming_df[item]=0\n",
    "    \n",
    "    # Put all our data together\n",
    "    big_df = pd.concat([enthusiast_df, business_df, home_office_df, gaming_df], sort=True)\n",
    "    \n",
    "    # Add some random noise (fixes for segmented customers that may buy items from other segment)\n",
    "    big_df.add(np.random.choice([0, 1], size=big_df.shape, p=[8./10, 2./10]))\n",
    "    \n",
    "    # Output final dataframe\n",
    "    return big_df\n",
    "\n",
    "df = build_df()\n",
    "\n",
    "# Choose some samples from each segment to visualize later\n",
    "# In order enthusiast, business, home office, gaming\n",
    "samples = df.iloc[[3,5500,8100,9999],:]"
   ]
  },
  {
   "cell_type": "code",
   "execution_count": 5,
   "metadata": {},
   "outputs": [
    {
     "name": "stdout",
     "output_type": "stream",
     "text": [
      "      17 E  22 E  22 P  23 E  23 P  24 4K P  24 E  24 P  24 Touch P  \\\n",
      "3        0     0     0     0     0        1     0     0           0   \n",
      "500      0     0     0     0     0        0     0     0           0   \n",
      "2100     0     0     0     0     1        1     0     0           1   \n",
      "999      0     0     0     0     0        0     0     0           0   \n",
      "\n",
      "      24 Video-Conferencing P    ...      Wyse 5070 Thin Client  \\\n",
      "3                           0    ...                          0   \n",
      "500                         0    ...                          2   \n",
      "2100                        0    ...                          0   \n",
      "999                         0    ...                          0   \n",
      "\n",
      "      Wyse 7000 Thin Client  Wyse 7030 Zero Client  Wyse 7040 Thin Client  \\\n",
      "3                         0                      0                      0   \n",
      "500                       2                      1                      1   \n",
      "2100                      0                      0                      0   \n",
      "999                       0                      0                      0   \n",
      "\n",
      "      XPS 13  XPS 13 2-in-1  XPS 15  XPS 15 2-in-1  XPS 27 All-in-one  \\\n",
      "3          1              0       0              0                  0   \n",
      "500        0              0       0              0                  1   \n",
      "2100       0              0       0              0                  0   \n",
      "999        0              0       0              0                  0   \n",
      "\n",
      "      XPS Tower  \n",
      "3             0  \n",
      "500           2  \n",
      "2100          0  \n",
      "999           0  \n",
      "\n",
      "[4 rows x 115 columns]\n"
     ]
    }
   ],
   "source": [
    "# Let's take a look at the sample data. \n",
    "print(samples)"
   ]
  },
  {
   "cell_type": "markdown",
   "metadata": {},
   "source": [
    "Now that we have our data loaded, we can visualize it. Our data has a lot of dimmensions since we are looking at 115 items. To simplify this, we can reduce the dimension of the data using PCA. This basically gives us a simpler view: although we can't exactly define the axes, they will give us a good idea at how the customer segments are distributed.\n",
    "\n",
    "Once we have our data in two dimensions, we can easily visualize it and use clustering to try and find our randomly generated customer segments ourselves. Clustering basically looks at the data and tries to figure out the best way to separate it after we tell the clustering algorithm how many clusters we want. Since we created four, we will look for 4 clusters. The so-called 'Centroids' just mean the center of the cluster."
   ]
  },
  {
   "cell_type": "code",
   "execution_count": 6,
   "metadata": {},
   "outputs": [
    {
     "data": {
      "text/html": [
       "<div>\n",
       "<style scoped>\n",
       "    .dataframe tbody tr th:only-of-type {\n",
       "        vertical-align: middle;\n",
       "    }\n",
       "\n",
       "    .dataframe tbody tr th {\n",
       "        vertical-align: top;\n",
       "    }\n",
       "\n",
       "    .dataframe thead th {\n",
       "        text-align: right;\n",
       "    }\n",
       "</style>\n",
       "<table border=\"1\" class=\"dataframe\">\n",
       "  <thead>\n",
       "    <tr style=\"text-align: right;\">\n",
       "      <th></th>\n",
       "      <th>Dimension 1</th>\n",
       "      <th>Dimension 2</th>\n",
       "    </tr>\n",
       "  </thead>\n",
       "  <tbody>\n",
       "    <tr>\n",
       "      <th>0</th>\n",
       "      <td>-1.4458</td>\n",
       "      <td>-0.5221</td>\n",
       "    </tr>\n",
       "    <tr>\n",
       "      <th>1</th>\n",
       "      <td>14.0620</td>\n",
       "      <td>-0.2016</td>\n",
       "    </tr>\n",
       "    <tr>\n",
       "      <th>2</th>\n",
       "      <td>-1.4470</td>\n",
       "      <td>0.4311</td>\n",
       "    </tr>\n",
       "    <tr>\n",
       "      <th>3</th>\n",
       "      <td>-1.3791</td>\n",
       "      <td>0.2446</td>\n",
       "    </tr>\n",
       "  </tbody>\n",
       "</table>\n",
       "</div>"
      ],
      "text/plain": [
       "   Dimension 1  Dimension 2\n",
       "0      -1.4458      -0.5221\n",
       "1      14.0620      -0.2016\n",
       "2      -1.4470       0.4311\n",
       "3      -1.3791       0.2446"
      ]
     },
     "metadata": {},
     "output_type": "display_data"
    },
    {
     "name": "stdout",
     "output_type": "stream",
     "text": [
      "Sample point 0 predicted to be in Cluster 0\n",
      "Sample point 1 predicted to be in Cluster 1\n",
      "Sample point 2 predicted to be in Cluster 2\n",
      "Sample point 3 predicted to be in Cluster 3\n"
     ]
    },
    {
     "data": {
      "image/png": "[encoded data removed]",
      "text/plain": [
       "<Figure size 1008x576 with 1 Axes>"
      ]
     },
     "metadata": {},
     "output_type": "display_data"
    }
   ],
   "source": [
    "# Apply PCA by fitting the good data with only two dimensions\n",
    "pca = PCA(n_components=2).fit(df)\n",
    "\n",
    "# Transform the data using the PCA fit above\n",
    "reduced_data = pca.transform(df)\n",
    "\n",
    "# Transform samples using the PCA fit above\n",
    "pca_samples = pca.transform(samples)\n",
    "\n",
    "# Create a DataFrame for the reduced data\n",
    "reduced_data = pd.DataFrame(reduced_data, columns = ['Dimension 1', 'Dimension 2'])\n",
    "display(pd.DataFrame(np.round(pca_samples, 4), columns = ['Dimension 1', 'Dimension 2']))\n",
    "\n",
    "# Apply clustering algorithm of choice to the reduced data \n",
    "clusterer = GaussianMixture(n_components=4).fit(reduced_data)\n",
    "\n",
    "#  Predict the cluster for each data point\n",
    "preds = clusterer.predict(reduced_data)\n",
    "\n",
    "# Find the cluster centers\n",
    "centers = clusterer.means_\n",
    "\n",
    "# Predict the cluster for each transformed sample data point\n",
    "sample_preds = clusterer.predict(pca_samples)\n",
    "\n",
    "# Calculate the mean silhouette coefficient for the number of clusters chosen\n",
    "score = silhouette_score(reduced_data, preds)\n",
    "\n",
    "# Visualize the data\n",
    "vs.cluster_results(reduced_data, preds, centers, pca_samples)\n",
    "\n",
    "# Print our cluster predictions\n",
    "for i, pred in enumerate(sample_preds):\n",
    "    print(\"Sample point\", i, \"predicted to be in Cluster\", pred)"
   ]
  },
  {
   "cell_type": "markdown",
   "metadata": {},
   "source": [
    "We find some interesting results. Since the X's mark our sample data points, we can more clearly see how the clusters represent the data. The green cluster is very well defined off to the right as business customers. This is probably due to the significant difference in amount of purchases as well as which items are being purchased, which in reality would probably be the case. Over to the left, it is more difficult to differentiate between clusters. The red cluster seems well-defined as the Home Office customer segment, but the blue and pink clusters, which seem to correspond to enthusiast and gaming, respectively, are harder to differentiate. This is not a problem for us, though, since we are significantly reducing the complexity of our data and already have some good results: we accurately predicted each sample data point to be part of a different cluster, meaning that our clusters are doing a good job finding the customer segments. In practice, this technique would be very useful when applied to real data, although our results would most likely not be as clearcut.\n",
    "\n",
    "IMPORTANT TO NOTE: Re-running the above cell will always produce slightly (or majorly) different results, either in color or position of clusters. This is because initially, the cluster centers are randomized and each color could end up anywhere. Sometimes, we end up splitting the \"business\" cluster into two clusters while splitting the left portion of the data into only one cluster. Also, we sometimes misclassify our sample data. This is a major challenge when using clustering: on a real dataset, we won't actually know where a customer 'belongs' without doing some manual research.\n",
    "\n",
    "The next step is to fit a recommendation system to this data and try to predict that if a customer has bought a few items already, what would be the best item to recommend them next. Even if a customer is new to the site, we can still make a good recommendation based on what the most popular items are in the whole dataset. \n",
    "\n",
    "For the first stage, we compressed our data to 'sparse' format. Sparse just means lots of zeros, which our data matrix already has lots of."
   ]
  },
  {
   "cell_type": "code",
   "execution_count": 7,
   "metadata": {},
   "outputs": [],
   "source": [
    "data_sparse = sparse.csr_matrix(df.values)"
   ]
  },
  {
   "cell_type": "markdown",
   "metadata": {},
   "source": [
    "In the following cell, we will train our Alternating Least Squares algorithm. This will take a few seconds, and would take a very long time on a very large dataset. We will talk more about how to handle bigger datasets later."
   ]
  },
  {
   "cell_type": "code",
   "execution_count": 23,
   "metadata": {},
   "outputs": [
    {
     "name": "stdout",
     "output_type": "stream",
     "text": [
      "iteration 1 of 20\n",
      "iteration 2 of 20\n",
      "iteration 3 of 20\n",
      "iteration 4 of 20\n",
      "iteration 5 of 20\n",
      "iteration 6 of 20\n",
      "iteration 7 of 20\n",
      "iteration 8 of 20\n",
      "iteration 9 of 20\n",
      "iteration 10 of 20\n",
      "iteration 11 of 20\n",
      "iteration 12 of 20\n",
      "iteration 13 of 20\n",
      "iteration 14 of 20\n",
      "iteration 15 of 20\n",
      "iteration 16 of 20\n",
      "iteration 17 of 20\n",
      "iteration 18 of 20\n",
      "iteration 19 of 20\n",
      "iteration 20 of 20\n"
     ]
    }
   ],
   "source": [
    "# Define implicit als algorithm\n",
    "# Original Source: https://medium.com/radon-dev/als-implicit-collaborative-filtering-5ed653ba39fe\n",
    "# Code modified to handle our data\n",
    "def nonzeros(m, row):\n",
    "    for index in range(m.indptr[row], m.indptr[row+1]):\n",
    "        yield m.indices[index], m.data[index]\n",
    "      \n",
    "      \n",
    "def implicit_als_cg(Cui, features=20, iterations=20, lambda_val=0.1):\n",
    "    user_size, item_size = Cui.shape\n",
    "\n",
    "    X = np.random.rand(user_size, features) * 0.01\n",
    "    Y = np.random.rand(item_size, features) * 0.01\n",
    "\n",
    "    Cui, Ciu = Cui.tocsr(), Cui.T.tocsr()\n",
    "\n",
    "    for iteration in range(iterations):\n",
    "        print('iteration %d of %d' % (iteration+1, iterations))\n",
    "        least_squares_cg(Cui, X, Y, lambda_val)\n",
    "        least_squares_cg(Ciu, Y, X, lambda_val)\n",
    "    \n",
    "    return sparse.csr_matrix(X), sparse.csr_matrix(Y)\n",
    "  \n",
    "  \n",
    "def least_squares_cg(Cui, X, Y, lambda_val, cg_steps=3):\n",
    "    users, features = X.shape\n",
    "\n",
    "    YtY = Y.T.dot(Y) + lambda_val * np.eye(features)\n",
    "\n",
    "    for u in range(users):\n",
    "\n",
    "        x = X[u]\n",
    "        r = -YtY.dot(x)\n",
    "\n",
    "        for i, confidence in nonzeros(Cui, u):\n",
    "            r += (confidence - (confidence - 1) * Y[i].dot(x)) * Y[i]\n",
    "\n",
    "        p = r.copy()\n",
    "        rsold = r.dot(r)\n",
    "\n",
    "        for it in range(cg_steps):\n",
    "            Ap = YtY.dot(p)\n",
    "            for i, confidence in nonzeros(Cui, u):\n",
    "                Ap += (confidence - 1) * Y[i].dot(p) * Y[i]\n",
    "\n",
    "            alpha = rsold / p.dot(Ap)\n",
    "            x += alpha * p\n",
    "            r -= alpha * Ap\n",
    "\n",
    "            rsnew = r.dot(r)\n",
    "            p = r + (rsnew / rsold) * p\n",
    "            rsold = rsnew\n",
    "\n",
    "        X[u] = x\n",
    "\n",
    "# Set training parameters and train on data\n",
    "alpha_val = 15\n",
    "conf_data = (data_sparse * alpha_val).astype('double')\n",
    "user_vecs, item_vecs = implicit_als_cg(conf_data, iterations=20, features=20)"
   ]
  },
  {
   "cell_type": "code",
   "execution_count": 49,
   "metadata": {},
   "outputs": [],
   "source": [
    "# Get sorted products for indexing data\n",
    "products = sorted(products)"
   ]
  },
  {
   "cell_type": "markdown",
   "metadata": {},
   "source": [
    "Now that our model is trained, we can make some predictions. Note that we did not split data into testing and training sets: we are simply observing how this algorithm might work in a simulated setting. If we were to implement the algorithm on Dell.com, we would want to test our algorithm first to see how well it can predict what unseen customers are interested in. However, the beauty of recommendation systems is that there isn't too much downside to \"incorrectly\" predicting what a customer is interested in since our goal is to simply make the customer aware of a certain item's availability.\n",
    "\n",
    "Our first task will be to find items that are similar to a particular item of interest. For instance, let's check our items that are similar to one of Dell's most popular item, the XPS 13."
   ]
  },
  {
   "cell_type": "code",
   "execution_count": 9,
   "metadata": {},
   "outputs": [
    {
     "name": "stdout",
     "output_type": "stream",
     "text": [
      "Items similar to G3\n",
      "                              item     score\n",
      "0                               G3  0.111819\n",
      "1                        XPS Tower  0.092033\n",
      "2            Wyse 7030 Zero Client  0.085919\n",
      "3                           XPS 15  0.085275\n",
      "4                          Scanner  0.084258\n",
      "5                    XPS 15 2-in-1  0.081221\n",
      "6          Education Chromebook 11  0.080350\n",
      "7                      OptiPlex XE  0.079457\n",
      "8                               G7  0.078779\n",
      "9  Precision Fixed 5000 All-in-one  0.076728\n"
     ]
    }
   ],
   "source": [
    "#------------------------------\n",
    "# FIND SIMILAR ITEMS\n",
    "#------------------------------\n",
    "\n",
    "# Input product\n",
    "product_of_interest = 'G3'\n",
    "item_id = products.index(product_of_interest)\n",
    "print(\"Items similar to {}\".format(products[item_id]))\n",
    "\n",
    "# Get the item row for item_id\n",
    "item_vec = item_vecs[item_id].T\n",
    "\n",
    "# Calculate the similarity score between item and other items\n",
    "scores = item_vecs.dot(item_vec).toarray().reshape(1,-1)[0]\n",
    "top_10 = np.argsort(scores)[::-1][:10]\n",
    "item_lookup = products\n",
    "\n",
    "items = []\n",
    "items_scores = []\n",
    "\n",
    "# Get and print the actual artists names and scores\n",
    "for idx in top_10:\n",
    "    items.append(products[idx])\n",
    "    items_scores.append(scores[idx])\n",
    "\n",
    "similar = pd.DataFrame({'item': items, 'score': items_scores})\n",
    "\n",
    "print(similar)"
   ]
  },
  {
   "cell_type": "markdown",
   "metadata": {},
   "source": [
    "Very interesting results. We see many items that are indeed similar to the G3, however due to the randomness of our data, these results aren't perfect. On real data, we would inherently expect our results to be even more realistic, but this is a good start. Note that with our algorithm, items are usually similar to themselves, but sometimes they are not, so it is important to take a look at all of the top 10 scored items without ignoring the first.\n",
    "\n",
    "Next, we will recommend items based on what a user has already purchased. This functionality is what we are most interested in."
   ]
  },
  {
   "cell_type": "code",
   "execution_count": 89,
   "metadata": {},
   "outputs": [],
   "source": [
    "# Load sample users\n",
    "sample_user_ids = [3,5500,8100,9999]"
   ]
  },
  {
   "cell_type": "code",
   "execution_count": 90,
   "metadata": {},
   "outputs": [
    {
     "name": "stdout",
     "output_type": "stream",
     "text": [
      "Customer with user_id 9999 purchased:\n",
      "['Alienware 34 Curved Gaming Monitor', 'Briefcase', 'G3']\n",
      "\n",
      "Here are our recommendations for customer with user_id 9999:\n",
      "                      items     score\n",
      "0                  Backpack  0.745619\n",
      "1   Inspiron Gaming Desktop  0.684899\n",
      "2         Alienware headset  0.684445\n",
      "3          UltraSharp 27 4K  0.683748\n",
      "4           Alienware Mouse  0.676621\n",
      "5                        G7  0.663440\n",
      "6           Gaming Keyboard  0.656125\n",
      "7              Alienware 15  0.654901\n",
      "8  Visiontek Universal Dock  0.652539\n",
      "9         Alienware Area-51  0.644498\n"
     ]
    }
   ],
   "source": [
    "# Let's recommend products for our sample users\n",
    "# For instance, we will take a look at a 'gaming' customer\n",
    "user_id = sample_user_ids[3]\n",
    "\n",
    "#------------------------------\n",
    "# GET ITEMS CONSUMED BY USER\n",
    "#------------------------------\n",
    "\n",
    "# Let's print out what the user has purchased\n",
    "consumed_idx = list(data_sparse[user_id,:].nonzero()[1])\n",
    "consumed_items = [item_lookup[i] for i in consumed_idx]\n",
    "print(\"Customer with user_id {} purchased:\".format(user_id))\n",
    "print(consumed_items)\n",
    "\n",
    "\n",
    "#------------------------------\n",
    "# CREATE USER RECOMMENDATIONS\n",
    "#------------------------------\n",
    "\n",
    "def recommend(user_id, data_sparse, user_vecs, item_vecs, item_lookup, num_items=10):\n",
    "    \"\"\"Recommend items for a given user given a trained model\n",
    "    \n",
    "    Args:\n",
    "        user_id (int): The id of the user we want to create recommendations for.\n",
    "        \n",
    "        data_sparse (csr_matrix): Our original training data.\n",
    "        \n",
    "        user_vecs (csr_matrix): The trained user x features vectors\n",
    "        \n",
    "        item_vecs (csr_matrix): The trained item x features vectors\n",
    "        \n",
    "        item_lookup (pandas.DataFrame): Used to map artist ids to artist names\n",
    "        \n",
    "        num_items (int): How many recommendations we want to return:\n",
    "        \n",
    "    Returns:\n",
    "        recommendations (pandas.DataFrame): DataFrame with num_items artist names and scores\n",
    "    \n",
    "    \"\"\"\n",
    "  \n",
    "    # Get all interactions by the user\n",
    "    user_interactions = data_sparse[user_id,:].toarray()\n",
    "\n",
    "    # We don't want to recommend items the user has consumed. So let's\n",
    "    # set them all to 0 and the unknowns to 1.\n",
    "    user_interactions = user_interactions.reshape(-1) + 1 #Reshape to turn into 1D array\n",
    "    user_interactions[user_interactions > 1] = 0\n",
    "\n",
    "    # This is where we calculate the recommendation by taking the \n",
    "    # dot-product of the user vectors with the item vectors.\n",
    "    rec_vector = user_vecs[user_id,:].dot(item_vecs.T).toarray()\n",
    "\n",
    "    # Let's scale our scores between 0 and 1 to make it all easier to interpret.\n",
    "    min_max = MinMaxScaler()\n",
    "    rec_vector_scaled = min_max.fit_transform(rec_vector.reshape(-1,1))[:,0]\n",
    "    recommend_vector = user_interactions*rec_vector_scaled\n",
    "   \n",
    "    # Get all the artist indices in order of recommendations (descending) and\n",
    "    # select only the top \"num_items\" items. \n",
    "    item_idx = np.argsort(recommend_vector)[::-1][:num_items]\n",
    "\n",
    "    items = []\n",
    "    scores = []\n",
    "\n",
    "    # Loop through our recommended artist indicies and look up the actial artist name\n",
    "    for idx in item_idx:\n",
    "        items.append(item_lookup[idx])\n",
    "        scores.append(recommend_vector[idx])\n",
    "\n",
    "    # Create a new dataframe with recommended artist names and scores\n",
    "    recommendations = pd.DataFrame({'items': items, 'score': scores})\n",
    "    \n",
    "    return recommendations\n",
    "\n",
    "# Let's generate and print our recommendations\n",
    "recommendations = recommend(user_id, data_sparse, user_vecs, item_vecs, item_lookup)\n",
    "print()\n",
    "print(\"Here are our recommendations for customer with user_id {}:\".format(user_id))\n",
    "print(recommendations)"
   ]
  },
  {
   "cell_type": "markdown",
   "metadata": {},
   "source": [
    "Again, interesting results. Although our data is randomly generated, this result seems to make a lot of sense. By using a recommendation system, we are enabled to see connections in our data that we would not normally be able to make. Through making these connections, we not only are able to better understand our customer base, but we are also able to market more efficiency and raise brand reputation through personalized marketing."
   ]
  },
  {
   "cell_type": "markdown",
   "metadata": {},
   "source": [
    "### Thank you!"
   ]
  },
  {
   "cell_type": "markdown",
   "metadata": {},
   "source": [
    "A note on big data:\n",
    "\n",
    "On a very large dataset, we would need to use a different method to train our algorithm. There are methods to get around this! We could use PySpark, a package which integrates Spark and Hadoop with Python, allowing us to divide our data into many parts, train methods on multiple machines, and combine into a single, powerful model. PySpark has built in ALS systems, allowing us to train our model on large datasets."
   ]
  },
  {
   "cell_type": "code",
   "execution_count": 105,
   "metadata": {},
   "outputs": [],
   "source": [
    "# Next steps: Predicting best items for new customers... Real data?"
   ]
  }
 ],
 "metadata": {
  "kernelspec": {
   "display_name": "Python 3",
   "language": "python",
   "name": "python3"
  },
  "language_info": {
   "codemirror_mode": {
    "name": "ipython",
    "version": 3
   },
   "file_extension": ".py",
   "mimetype": "text/x-python",
   "name": "python",
   "nbconvert_exporter": "python",
   "pygments_lexer": "ipython3",
   "version": "3.6.5"
  }
 },
 "nbformat": 4,
 "nbformat_minor": 2
}
